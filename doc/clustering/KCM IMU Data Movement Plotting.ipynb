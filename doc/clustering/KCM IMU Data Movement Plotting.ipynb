{
 "cells": [
  {
   "cell_type": "markdown",
   "metadata": {},
   "source": [
    "# Image Classification & Clustering"
   ]
  },
  {
   "cell_type": "markdown",
   "metadata": {},
   "source": [
    "# KCM IMU Data: Movement Plotting"
   ]
  },
  {
   "cell_type": "markdown",
   "metadata": {},
   "source": [
    "## 1. Metadata\n",
    "\n",
    "Total number of data points: 690,846\n",
    "Data use for plotting: quaternion.csv\n",
    "\n",
    "## 2. Ploting the Movement\n",
    "\n",
    "The whole dataset:\n",
    "\n",
    "\n",
    "\n",
    "100 data points(100,000-100,100):\n",
    "\n",
    "\n",
    "\n",
    "50 data points(100,000-100,050):\n",
    "\n",
    "\n",
    "\n",
    "20 data points(100,000-100,020):\n",
    "\n",
    "\n",
    "## 3. Analysis\n",
    "\n",
    "1. Graph looks realistic and as expected. Most of the action is in buffer area which makes sense. Also, this means that the test setup at pilot plant does not provide similar that in the real site. 10 to 20 datapoints is most likely time window. \n",
    "\n",
    "2. The movement is relatively sharper.This is related to the speed of movement.\n",
    "\n",
    "3. Use the clustering algorithm to do its work.\n"
   ]
  },
  {
   "cell_type": "markdown",
   "metadata": {},
   "source": []
  },
  {
   "cell_type": "markdown",
   "metadata": {},
   "source": []
  },
  {
   "cell_type": "markdown",
   "metadata": {},
   "source": []
  },
  {
   "cell_type": "markdown",
   "metadata": {},
   "source": []
  },
  {
   "cell_type": "markdown",
   "metadata": {},
   "source": []
  },
  {
   "cell_type": "markdown",
   "metadata": {},
   "source": []
  },
  {
   "cell_type": "markdown",
   "metadata": {},
   "source": []
  },
  {
   "cell_type": "markdown",
   "metadata": {},
   "source": []
  },
  {
   "cell_type": "markdown",
   "metadata": {},
   "source": []
  },
  {
   "cell_type": "markdown",
   "metadata": {},
   "source": []
  },
  {
   "cell_type": "markdown",
   "metadata": {},
   "source": []
  }
 ],
 "metadata": {
  "kernelspec": {
   "display_name": "Python 3",
   "language": "python",
   "name": "python3"
  },
  "language_info": {
   "codemirror_mode": {
    "name": "ipython",
    "version": 3
   },
   "file_extension": ".py",
   "mimetype": "text/x-python",
   "name": "python",
   "nbconvert_exporter": "python",
   "pygments_lexer": "ipython3",
   "version": "3.5.3"
  }
 },
 "nbformat": 4,
 "nbformat_minor": 2
}
