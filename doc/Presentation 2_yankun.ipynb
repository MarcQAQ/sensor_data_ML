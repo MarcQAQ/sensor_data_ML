{
 "cells": [
  {
   "cell_type": "markdown",
   "metadata": {},
   "source": [
    "# Feature Engineering and Model Optimization\n",
    "\n",
    "### Created by @YankunQiu and @JunLuo\n",
    "#### 22 Dec 2017 - 10 Jan 2018"
   ]
  },
  {
   "cell_type": "markdown",
   "metadata": {},
   "source": [
    "## Purpose of this document\n",
    "\n",
    "This document shows the data mining and machine learning process of the LanceGuard project, and the knowledge we found which is important for solving the problems. \n",
    "\n",
    "The document will be structured into three sections:\n",
    "\n",
    "1. Research\n",
    "\n",
    "2. Implementation\n",
    "\n",
    "3. Evaluation and Analysis"
   ]
  },
  {
   "cell_type": "markdown",
   "metadata": {},
   "source": [
    "## 1. Research"
   ]
  },
  {
   "cell_type": "markdown",
   "metadata": {},
   "source": [
    "### (1) Time series features: \n",
    "\n",
    "### (2) DNN Research\n",
    "\n",
    "### (3) RNN and LSTM\n",
    "\n",
    "### (4) Feature Engineering \n",
    "\n",
    "### (5) Feature Transformation\n",
    "#### 5.1 Identify the Vertical Direction\n",
    "Initially, we set the y axis along the direction of the lance, but the performance of the model is not really good. By observing the data we have, we found that the accelarations along the y and z axises are quite similar, while the accelarations along the x axis are much larger. And we also did some research, it saies that the accelaration is usually greater than those one other two directions cause the existence of gravity. So we think the x axis may be the vertical direction, and our following work is based on this assumption.\n",
    "#### 5.2 Axis Scaling\n",
    "The lance would move back and forth given a fixed pointed. The accelarations along y and z axises would change if we change the position of the sensor. And after analyzing, we think that the accelarations along y and z axises would increase/decrease with some common factor by changing the position of the sensor. By scaling the the accelarations along the y and z axises, we think this can minimize the influence of different sensor positions.\n",
    "#### 5.3 Axis Rotation\n",
    "When we worked on this task, we found that even if the sensors are in the same position of the lance, which means the distances between them and the fixed point are the same, the accelarations along y and z axises can be different if we rotate the sensors with some angle. But the accelaration on the vertical direction remanis unchanged. The solution we came up with is adding some noise into the training set. For each item in the training set, we rotate the axises of y and z with mathematical method. This can prevent the model from overfitting the training data."
   ]
  },
  {
   "cell_type": "markdown",
   "metadata": {},
   "source": [
    "## 2. Implementation"
   ]
  },
  {
   "cell_type": "markdown",
   "metadata": {},
   "source": [
    "\n",
    "### (1) Algorithm Independent Tasks (Both)\n",
    "#### a. Feature extraction: Time series(Jun)\n",
    "\n",
    "Pandas Library\n",
    "Rolling window\n",
    "\n",
    "#### b. Feature Transformation(Yankun)\n",
    "##### b.1 Axises rotation\n",
    "\n",
    "<img src=\"http://image.ibb.co/ipmcmb/IMG_6214.jpg\">\n",
    "\n",
    "The picture above shows how we rotate the axies in a mathematical way. \n",
    "In different groups of experiments, the directions of the y and z axises can be different, depending on how to install the sensors. When processing the training data, we rotate the y, z axises with the angle from 1 to 359. This way, we can introduce some noise into the data set. Besides, we get a much larger training set because we add a lot of new data items.\n",
    "\n",
    "##### b.2 Feature scaling\n",
    "\n",
    "<img src=\"http://image.ibb.co/bNg0cR/Wechat_IMG1.jpg\">\n",
    "\n",
    "The picture above illustrates the relationship between the accelarations along the y, z axises and the distance between the sensors and the fixed point. As long as the sensors are installed on the same lance, they should have the same angular velocities, and that's the idea behind scaling the axises. Scaling the axises is just like moving the sensor to different position. By scaling the axises, we hope to minimize the influence made by moving the sensors.\n",
    "\n",
    "#### c. GPU support on windows 10: NVDIA GEFORCE 750M(Jun)\n",
    "\n",
    "\n",
    "### (2) Random Forest Model(Jun)\n",
    "#### a. Parameter Tuning\n",
    "\n",
    "#### b. Computational Parallelization\n",
    "\n",
    "### (3) Artifitial Neural Network(Jun)\n",
    "#### a. Tensorflow\n",
    "\n",
    "#### b. Softmax/Relu Regression & Choosing Activation Functions\n",
    "\n",
    "#### c. Deep Neural Network (Layer and Hidden Units)\n",
    "\n",
    "#### d. Parameter Tuning"
   ]
  },
  {
   "cell_type": "markdown",
   "metadata": {},
   "source": [
    "## 3. Evaluation and Analysis"
   ]
  },
  {
   "cell_type": "markdown",
   "metadata": {},
   "source": [
    "(We mainly focus on Random Forest)\n",
    "\n",
    "### (1) Effect of Feature Engineering(Both)\n",
    "\n",
    "To compare the model's performance when using different features, we design a series of experiment. There are 16 groups in total, the chart below shows the detail of the experiments.\n",
    "\n",
    "<img src=\"http://image.ibb.co/fK5h7R/experiment.png\">\n",
    "\n",
    "In the experiments, we use the data from trial 0a and 0b as training set, data from trial 1a, 1e, 4a and 3f as testing set when doing binary classification. For multi-class classification, we use data from trial 1b, 4e, 0b, 4b and 4c as training set, data from trail 4a, 4f, 3f, 0c and 2b as testing set.\n",
    "\n",
    "#### a. Time-series Feature vs Non-Time-series Feature\n",
    "\n",
    "#### b. Scaling vs Non-Scaling\n",
    "\n",
    "From the previous experiment, we can compare the results in pairs, the detail is showed in the picture below.\n",
    "\n",
    "The grey/blue bars represents the experiments with scaling and the yellow bars represents the experients with non-scaling features.\n",
    "\n",
    "<img src=\"http://image.ibb.co/eppnrm/recall_scaling.png\">\n",
    "\n",
    "<img src=\"http://image.ibb.co/du8oWm/precision_in_groups.png\">\n",
    "\n",
    "#### c. Rotation vs Non-Rotation\n",
    "\n",
    "The reason we rotate the axis is adding some noise into the data set, and it helps to prevent from overfitting and to build large dataset. However, in the previous experiments, the sensors are installed without rotation, which means, overfitting may give better results on even testing data. To see if rotate the axises could really improve the performance of the model on more general data set, we did another test.\n",
    "\n",
    "Training Data | Testing Data | Feature | Scaling | Rotation | Precision | Recall\n",
    "---- | --- | --- | --- | --- | --- | ---\n",
    "4h, 4g | 4i | Full | Yes | No | 1.00 | 0.58\n",
    "4h, 4g |  4i | Full | Yes | Yes | 1.00 | 0.97\n",
    "\n",
    "Testing the model on the new data set, we can see that the performance is improved significantly. Because the sensor in trail 4i is rotated with 90 degree. By rotating the axises, we can make the model more generalize.\n",
    "\n",
    "#### d. Effect of Parameter Tuning in Random Forest Model\n",
    "\n",
    "\n",
    "### (2) Result After Feature Engineering and Parameter Tuning(Yankun)\n",
    "\n",
    "#### a. Binary Classification\n",
    "\n",
    "#### b. Multi-class Clasification\n",
    "\n"
   ]
  },
  {
   "cell_type": "markdown",
   "metadata": {},
   "source": [
    "# 4. Next Steps"
   ]
  },
  {
   "cell_type": "markdown",
   "metadata": {},
   "source": [
    "#### a. Deep Learning Cont.\n",
    "#### b. More data, more classes\n",
    "#### c. Experiment -> Real industrial condition"
   ]
  },
  {
   "cell_type": "markdown",
   "metadata": {},
   "source": [
    "# References"
   ]
  },
  {
   "cell_type": "markdown",
   "metadata": {},
   "source": []
  }
 ],
 "metadata": {
  "kernelspec": {
   "display_name": "Python 3",
   "language": "python",
   "name": "python3"
  },
  "language_info": {
   "codemirror_mode": {
    "name": "ipython",
    "version": 3
   },
   "file_extension": ".py",
   "mimetype": "text/x-python",
   "name": "python",
   "nbconvert_exporter": "python",
   "pygments_lexer": "ipython3",
   "version": "3.5.3"
  }
 },
 "nbformat": 4,
 "nbformat_minor": 2
}
